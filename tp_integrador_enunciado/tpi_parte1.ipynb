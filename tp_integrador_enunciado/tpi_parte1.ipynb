{
  "cells": [
    {
      "attachments": {},
      "cell_type": "markdown",
      "id": "07289bb0",
      "metadata": {},
      "source": [
        "# Trabajo integrador - Parte 1\n",
        "## Python y Numpy\n",
        "\n",
        "**Nombre**:"
      ]
    },
    {
      "cell_type": "code",
      "execution_count": 20,
      "id": "aaf94e0a",
      "metadata": {
        "id": "aaf94e0a"
      },
      "outputs": [],
      "source": [
        "import numpy as np\n",
        "import pandas as pd"
      ]
    },
    {
      "attachments": {},
      "cell_type": "markdown",
      "id": "0ffe9554",
      "metadata": {},
      "source": [
        "## Ejercicio 1\n",
        "\n",
        "Dada una matriz en formato *numpy array*, donde cada fila de la matriz representa un vector matemático, se requiere computar las normas $l_0$, $l_1$, $l_2$, $l_{\\infty}$, según la siguientes definiciones:\n",
        "\n",
        "\\begin{equation}\n",
        "    ||\\mathbf{x}||^{p} = \\bigg(\\sum_{j=1}^{n}{|x_i|^p}\\bigg)^{\\frac{1}{p}}\n",
        "\\end{equation}\n",
        "\n",
        "con los casos especiales para $p=0$ y $p=\\infty$ siendo:\n",
        "\n",
        "\\begin{equation}\n",
        "    \\begin{array}{rcl}\n",
        "        ||\\mathbf{x}||_0 & = & \\bigg(\\sum_{j=1 \\wedge x_j != 0}{|x_i|}\\bigg)\\\\\n",
        "        ||\\mathbf{x}||_{\\infty} & = & \\max_{i}{|x_i|}\\\\\n",
        "    \\end{array}\n",
        "\\end{equation}"
      ]
    },
    {
      "cell_type": "code",
      "execution_count": 12,
      "id": "0bdb0ee3",
      "metadata": {},
      "outputs": [
        {
          "name": "stdout",
          "output_type": "stream",
          "text": [
            "[[  0  -9  -2  -8]\n",
            " [  5  -3   0  -1]\n",
            " [-10   1   1  -3]\n",
            " [  5   9  -9  -2]]\n",
            "L0:  [3 3 4 4]\n",
            "L1:  [19  9 15 25]\n",
            "L2:  [12.20655562  5.91607978 10.53565375 13.82027496]\n",
            "L-infinito:  [ 9  5 10  9]\n"
          ]
        }
      ],
      "source": [
        "matriz_numpy = np.random.randint(-10, 10, size=(4, 4))#creamos una matriz\n",
        "matriz_numpy[0,0] = 0\n",
        "\n",
        "print(matriz_numpy)\n",
        "\n",
        "#l0: número de elementos diferentes a cero en el vector:\n",
        "L0 = np.count_nonzero(matriz_numpy, axis = 1)\n",
        "print(\"L0: \", L0)\n",
        "\n",
        "#l1: suma de los valores absolutos de sus elementos:\n",
        "L1 = np.sum(np.absolute(matriz_numpy), axis = 1)\n",
        "print(\"L1: \", L1)\n",
        "\n",
        "#l2: raíz cuadrada de la suma de los modulos al cuadrados de sus elementos:\n",
        "L2 = np.sqrt(np.sum(np.absolute(matriz_numpy)**2, axis = 1))\n",
        "print(\"L2: \", L2)\n",
        "\n",
        "#l-infinito:  valor absoluto del elemento más grande en el vector:\n",
        "L_infinito = np.max(np.absolute(matriz_numpy), axis = 1)\n",
        "print(\"L-infinito: \", L_infinito)"
      ]
    },
    {
      "attachments": {},
      "cell_type": "markdown",
      "id": "dd66d862",
      "metadata": {},
      "source": [
        "## Ejercicio 2\n",
        "\n",
        "En clasificación contamos con dos arreglos, la “verdad” y la “predicción”. Cada elemento de los arreglos pueden tomar dos valores, “True” (representado por 1) y “False” (representado por 0). Entonces podemos definir 4 variables:\n",
        "\n",
        "* True Positive (TP): El valor verdadero es 1 y el valor predicho es 1\n",
        "* True Negative (TN): El valor verdadero es 0 y el valor predicho es 0\n",
        "* False Positive (FP): El valor verdadero es 0 y el valor predicho es 1\n",
        "* False Negative (FN): El valor verdadero es 1 y el valor predicho es 0\n",
        "\n",
        "A partir de esto definimos:\n",
        "\n",
        "* Precision = TP / (TP + FP)\n",
        "* Recall = TP / (TP + FN)\n",
        "* Accuracy = (TP + TN) / (TP + TN + FP + FN)\n",
        " \n",
        "Calcular las 3 métricas con Numpy y operaciones vectorizadas."
      ]
    },
    {
      "cell_type": "code",
      "execution_count": 46,
      "id": "794dcd58",
      "metadata": {},
      "outputs": [],
      "source": [
        "truth = np.array(     [1,1,0,1,1,1,0,0,0,1])\n",
        "prediction = np.array([1,1,1,1,0,0,1,1,0,0])"
      ]
    },
    {
      "cell_type": "code",
      "execution_count": 47,
      "metadata": {},
      "outputs": [
        {
          "name": "stdout",
          "output_type": "stream",
          "text": [
            "TP:  [1 1 1]\n",
            "FP:  [1 1 1]\n",
            "TN:  [1]\n",
            "FN:  [1 1 1]\n",
            "Precision:  0.5\n",
            "Recall:  0.5\n",
            "Accuracy:  0.4\n"
          ]
        }
      ],
      "source": [
        "\n",
        "#tenemos listas y necesitamos arrays:\n",
        "truth_Array = np.array(truth)\n",
        "prediction_Array = np.array(prediction)\n",
        "\n",
        "#creamos un nuevo array a partir de truth_Array, pero solo con los valores que cumplan la condicion:\n",
        "TP =  truth_Array[(truth_Array == 1) & (truth_Array == prediction_Array)]\n",
        "#lo mismo que arriba, pero como ,lo hacemos a partir de truth_Array = 0, vamos a crear un nuevo array lleno de 1 donde se cumpla la condicion:\n",
        "TN = np.full(len(truth_Array[(truth_Array == 0) & (truth_Array == prediction_Array)]), 1)\n",
        "FN = truth_Array[(truth_Array == 1) & (prediction_Array == 0)]\n",
        "FP = np.full(len(truth_Array[(truth_Array == 0) & (prediction_Array == 1)]), 1)\n",
        "print(\"TP: \", TP)\n",
        "print(\"FP: \", FP)\n",
        "print(\"TN: \", TN)\n",
        "print(\"FN: \", FN)\n",
        "\n",
        "Precision = TP.sum()/(TP.sum() + FP.sum())\n",
        "print(\"Precision: \", Precision)\n",
        "Recall = TP.sum()/(TP.sum() + FN.sum())\n",
        "print(\"Recall: \", Recall)\n",
        "Accuracy = (TP.sum() + TN.sum())/(TP.sum() + TN.sum() + FP.sum() + FN.sum())\n",
        "print(\"Accuracy: \", Accuracy)"
      ]
    },
    {
      "attachments": {},
      "cell_type": "markdown",
      "id": "d0ac6f6f",
      "metadata": {},
      "source": [
        "## Ejercicio 3\n",
        "\n",
        "Crear una función que separe los datos en train-validation-test. Debe recibir de parametros:\n",
        "\n",
        "- X: Array o Dataframe que contiene los datos de entrada del sistema.\n",
        "- y: Array o Dataframe que contiene la(s) variable(s) target del problema.\n",
        "- train_percentage: _float_ el porcentaje de training.\n",
        "- test_percentage: _float_ el porcentaje de testing.\n",
        "- val_percentage: _float_ el porcentaje de validación.\n",
        "- shuffle: _bool_ determina si el split debe hacerse de manera random o no.\n",
        "\n",
        "Hints: \n",
        "\n",
        "* Usar Indexing y slicing\n",
        "* Usar np.random.[...]"
      ]
    },
    {
      "cell_type": "code",
      "execution_count": 44,
      "id": "ca85fc66",
      "metadata": {},
      "outputs": [],
      "source": [
        "from utils.data_generation import generate_dataset\n",
        "\n",
        "def split(X_input,Y_input,train_size=0.7,val_size=0.15,test_size=0.15,random_state=42,shuffle=True):\n",
        "    \n",
        "\n",
        "    #si no juntamos x e y al dividir vectores de x no corresponderan a valores de y.\n",
        "    #juntamos x e y, y lo hacemos en numpy para ya tenerlo listo para operaciones vectorizadas:\n",
        "    datos_combinados = np.column_stack((X_input, Y_input))\n",
        "\n",
        "    #mezclamos los datos:\n",
        "    #shuffle baraja la matriz a lo largo del primer eje de una matriz multidimensional, o sea, por ej, pone la fila 1 en la 100 y la 100 en la 23, o como sea que toque, no cambia las columnas de lugar.\n",
        "    if shuffle == True:\n",
        "        np.random.shuffle(datos_combinados)\n",
        "\n",
        "\n",
        "    #calculamos el numero total de filas porque vamos a separar los 3 subsets en filas:\n",
        "    filas = len(datos_combinados)\n",
        "\n",
        "    #subdividimos los datasets:\n",
        "    train_data = datos_combinados[:int(train_size*filas), :]\n",
        "    #print(int(train_size*total_Datos))\n",
        "    val_data = datos_combinados[int(train_size*filas):int(train_size*filas)+int(val_size*filas), :]\n",
        "    #print(int(val_size*total_Datos))\n",
        "    test_data = datos_combinados[int(train_size*filas)+int(val_size*filas):, :]\n",
        "\n",
        "    #necesitaremos saber cuantas columnas tiene el array para dividir en X e Y:\n",
        "    columnas = datos_combinados.shape[1]\n",
        "    #print(\"cantidad de columnas: \", columnas)\n",
        "\n",
        "    # Separamos de nuevo X e Y\n",
        "    #ultimo indice es columnas - 1\n",
        "    X_train = train_data[:, :columnas - 1]\n",
        "    Y_train = train_data[:, columnas - 1]\n",
        "    X_val = val_data[:, :columnas - 1]\n",
        "    Y_val = val_data[:, columnas - 1]\n",
        "    X_test = test_data[:, :columnas - 1]\n",
        "    Y_test =test_data[:, columnas - 1]\n",
        "\n",
        "\n",
        "    return X_train, X_val, X_test, Y_train, Y_val, Y_test\n",
        "\n",
        "\n",
        "dataset = generate_dataset()\n",
        "Y = dataset.target\n",
        "X = dataset.drop(['target'], axis = 1) \n",
        "\n",
        "X_train, X_val, X_test, Y_train, Y_val, Y_test = split(X, Y)\n"
      ]
    },
    {
      "cell_type": "code",
      "execution_count": null,
      "metadata": {},
      "outputs": [],
      "source": []
    }
  ],
  "metadata": {
    "colab": {
      "collapsed_sections": [],
      "name": "Practica_clase_3.ipynb",
      "provenance": []
    },
    "kernelspec": {
      "display_name": "Python 3.10.7 64-bit",
      "language": "python",
      "name": "python3"
    },
    "language_info": {
      "codemirror_mode": {
        "name": "ipython",
        "version": 3
      },
      "file_extension": ".py",
      "mimetype": "text/x-python",
      "name": "python",
      "nbconvert_exporter": "python",
      "pygments_lexer": "ipython3",
      "version": "3.10.9"
    },
    "vscode": {
      "interpreter": {
        "hash": "b5c22da4a52024410f64f9c5a5e2b4ffeeb944a5ed00e8825a42174cdab30315"
      }
    }
  },
  "nbformat": 4,
  "nbformat_minor": 5
}
