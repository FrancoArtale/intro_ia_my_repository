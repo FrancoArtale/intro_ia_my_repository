{
 "cells": [
  {
   "attachments": {},
   "cell_type": "markdown",
   "id": "27719223",
   "metadata": {},
   "source": [
    "# Trabajo Integrador Parte 4\n",
    "\n",
    "Nombre:"
   ]
  },
  {
   "attachments": {},
   "cell_type": "markdown",
   "id": "461d011d",
   "metadata": {},
   "source": [
    "Dentro de la carpeta de `data/` vamos a poder encontrar 3 datasets:\n",
    "\n",
    "- Pokemon (Problema de clasificacion Binaria): La intención es tratar de predecir si basada en la información que tenemos podemos estimar si la carta que estamos viendo es Legendaria o no (Booleano).\n",
    "- Heart Disease (Problema de clasificacion Binaria): A partir de este dataset vamos a tratar de determinar si una persona basado en ciertos datos tiene asociado una enfermedad cardiaca.\n",
    "- Challenger USA Space Shuttle O-Ring Data Set (Regresion multivariada): En este dataset encontramos información sobre varios despegues del space shuttle, la intención de este problema es tratar de predecir cuanto será la cantidad de O-Rings que fallan dadas las condiciones de despegue.\n",
    "\n",
    "> Para la presentación de sus trabajos prácticos **Elijan 1 de los 3 datasets**"
   ]
  },
  {
   "attachments": {},
   "cell_type": "markdown",
   "id": "5a976dd3",
   "metadata": {},
   "source": [
    "# Importar librerías\n",
    "\n",
    "Importar aquellas librerías que serán utilizadas en el trabajo."
   ]
  },
  {
   "cell_type": "code",
   "execution_count": 2000,
   "id": "845b6c50",
   "metadata": {},
   "outputs": [],
   "source": [
    "import numpy as np\n",
    "import pandas as pd\n",
    "import matplotlib.pyplot as plt\n",
    "import seaborn as sns\n",
    "\n",
    "from sklearn.preprocessing import StandardScaler\n",
    "from sklearn.decomposition import PCA\n",
    "\n",
    "from sklearn.linear_model import LogisticRegression, LogisticRegressionCV\n",
    "from sklearn.impute import SimpleImputer\n",
    "\n",
    "from sklearn.model_selection import train_test_split\n",
    "\n",
    "from sklearn.metrics import accuracy_score, confusion_matrix, classification_report\n",
    "\n"
   ]
  },
  {
   "attachments": {},
   "cell_type": "markdown",
   "id": "954111ce",
   "metadata": {},
   "source": [
    "# Cargar datos\n",
    "\n",
    "Cargar los datos de entrenamiento.\n",
    "\n",
    "Recordemos que para todos los datasets tenemos el archivo `columns.csv` que contiene el nombre y descripción de cada columna en el mismo orden que van a encontrar los datos.\n",
    "\n",
    "En los casos de datos con extensión  `*.data` vamos a tener que leerlo utilizando `pd.read_data('myfile.data', sep = ',', header = 0, names = my_cols)`\n",
    "\n",
    "De esta manera si quisieramos cargar datos por ejemplo de Nasa deberiamos poner algo asi\n",
    "\n",
    "\n",
    "```python\n",
    "## Importing python earlier\n",
    "\n",
    "my_cols = pd.read_csv('./data/nasa_orings/columns.csv').column.values.tolist()\n",
    "\n",
    "my_data = pd.read_csv('./data/nasa_orings/o-ring-erosion-or-blowby.data',\n",
    "                       delimiter=',',\n",
    "                       header=0,\n",
    "                       names = my_cols\n",
    "                    )\n",
    "```"
   ]
  },
  {
   "cell_type": "code",
   "execution_count": 2001,
   "id": "26f41c45",
   "metadata": {},
   "outputs": [],
   "source": [
    "DATASET_PATH = \"./data/pokemon/\""
   ]
  },
  {
   "cell_type": "code",
   "execution_count": 2002,
   "id": "2757cd5f",
   "metadata": {},
   "outputs": [],
   "source": [
    "my_cols = pd.read_csv(DATASET_PATH + 'columns.csv').column.values.tolist()\n",
    "\n",
    "my_dataset = pd.read_csv(DATASET_PATH + 'pokemon.csv'\n",
    "                    )"
   ]
  },
  {
   "attachments": {},
   "cell_type": "markdown",
   "id": "c93000bd",
   "metadata": {},
   "source": [
    "# Análisis exploratorio básico y preprocesamiento de los datos\n",
    "\n",
    "Análisis de los datos para conocer los mismos, ver datos faltantes, decidir cómo tratarlos, ver distribuciones, relaciones, etc. Procesar los datos centrándolos, reescalando, codificando, reduciendo dimensiones, etc. según considere necesario.\n",
    "\n",
    "Vamos a considerar:\n",
    "\n",
    "- Para escalar datos: `sklearn.preprocessing.StandardScaler()`\n",
    "- Para completar valores nulos: `sklearn.impute.SimpleImputer()` [Quickguide](https://scikit-learn.org/stable/modules/impute.html)\n",
    "- Para reduccion de dimensiones (sobre todo para visualizar los datos): PCA o [T-SNE](https://builtin.com/data-science/tsne-python) (Solo para visualización)\n",
    "- Para codificar variables categóricas: `sklearn.preprocessing.OneHotEncoder()`"
   ]
  },
  {
   "cell_type": "code",
   "execution_count": 2003,
   "id": "6181bfc3",
   "metadata": {},
   "outputs": [
    {
     "name": "stdout",
     "output_type": "stream",
     "text": [
      "<class 'pandas.core.frame.DataFrame'>\n",
      "RangeIndex: 801 entries, 0 to 800\n",
      "Data columns (total 41 columns):\n",
      " #   Column             Non-Null Count  Dtype  \n",
      "---  ------             --------------  -----  \n",
      " 0   abilities          801 non-null    object \n",
      " 1   against_bug        801 non-null    float64\n",
      " 2   against_dark       801 non-null    float64\n",
      " 3   against_dragon     801 non-null    float64\n",
      " 4   against_electric   801 non-null    float64\n",
      " 5   against_fairy      801 non-null    float64\n",
      " 6   against_fight      801 non-null    float64\n",
      " 7   against_fire       801 non-null    float64\n",
      " 8   against_flying     801 non-null    float64\n",
      " 9   against_ghost      801 non-null    float64\n",
      " 10  against_grass      801 non-null    float64\n",
      " 11  against_ground     801 non-null    float64\n",
      " 12  against_ice        801 non-null    float64\n",
      " 13  against_normal     801 non-null    float64\n",
      " 14  against_poison     801 non-null    float64\n",
      " 15  against_psychic    801 non-null    float64\n",
      " 16  against_rock       801 non-null    float64\n",
      " 17  against_steel      801 non-null    float64\n",
      " 18  against_water      801 non-null    float64\n",
      " 19  attack             801 non-null    int64  \n",
      " 20  base_egg_steps     801 non-null    int64  \n",
      " 21  base_happiness     801 non-null    int64  \n",
      " 22  base_total         801 non-null    int64  \n",
      " 23  capture_rate       801 non-null    object \n",
      " 24  classfication      801 non-null    object \n",
      " 25  defense            801 non-null    int64  \n",
      " 26  experience_growth  801 non-null    int64  \n",
      " 27  height_m           781 non-null    float64\n",
      " 28  hp                 801 non-null    int64  \n",
      " 29  japanese_name      801 non-null    object \n",
      " 30  name               801 non-null    object \n",
      " 31  percentage_male    703 non-null    float64\n",
      " 32  pokedex_number     801 non-null    int64  \n",
      " 33  sp_attack          801 non-null    int64  \n",
      " 34  sp_defense         801 non-null    int64  \n",
      " 35  speed              801 non-null    int64  \n",
      " 36  type1              801 non-null    object \n",
      " 37  type2              417 non-null    object \n",
      " 38  weight_kg          781 non-null    float64\n",
      " 39  generation         801 non-null    int64  \n",
      " 40  is_legendary       801 non-null    int64  \n",
      "dtypes: float64(21), int64(13), object(7)\n",
      "memory usage: 256.7+ KB\n"
     ]
    }
   ],
   "source": [
    "#información sobre el datset:\n",
    "my_dataset.info()"
   ]
  },
  {
   "cell_type": "code",
   "execution_count": 2004,
   "id": "5a97d401",
   "metadata": {},
   "outputs": [
    {
     "data": {
      "text/html": [
       "<div>\n",
       "<style scoped>\n",
       "    .dataframe tbody tr th:only-of-type {\n",
       "        vertical-align: middle;\n",
       "    }\n",
       "\n",
       "    .dataframe tbody tr th {\n",
       "        vertical-align: top;\n",
       "    }\n",
       "\n",
       "    .dataframe thead th {\n",
       "        text-align: right;\n",
       "    }\n",
       "</style>\n",
       "<table border=\"1\" class=\"dataframe\">\n",
       "  <thead>\n",
       "    <tr style=\"text-align: right;\">\n",
       "      <th></th>\n",
       "      <th>against_bug</th>\n",
       "      <th>against_dark</th>\n",
       "      <th>against_dragon</th>\n",
       "      <th>against_electric</th>\n",
       "      <th>against_fairy</th>\n",
       "      <th>against_fight</th>\n",
       "      <th>against_fire</th>\n",
       "      <th>against_flying</th>\n",
       "      <th>against_ghost</th>\n",
       "      <th>against_grass</th>\n",
       "      <th>...</th>\n",
       "      <th>height_m</th>\n",
       "      <th>hp</th>\n",
       "      <th>percentage_male</th>\n",
       "      <th>pokedex_number</th>\n",
       "      <th>sp_attack</th>\n",
       "      <th>sp_defense</th>\n",
       "      <th>speed</th>\n",
       "      <th>weight_kg</th>\n",
       "      <th>generation</th>\n",
       "      <th>is_legendary</th>\n",
       "    </tr>\n",
       "  </thead>\n",
       "  <tbody>\n",
       "    <tr>\n",
       "      <th>count</th>\n",
       "      <td>801.000000</td>\n",
       "      <td>801.000000</td>\n",
       "      <td>801.000000</td>\n",
       "      <td>801.000000</td>\n",
       "      <td>801.000000</td>\n",
       "      <td>801.000000</td>\n",
       "      <td>801.000000</td>\n",
       "      <td>801.000000</td>\n",
       "      <td>801.000000</td>\n",
       "      <td>801.000000</td>\n",
       "      <td>...</td>\n",
       "      <td>781.000000</td>\n",
       "      <td>801.000000</td>\n",
       "      <td>703.000000</td>\n",
       "      <td>801.000000</td>\n",
       "      <td>801.000000</td>\n",
       "      <td>801.000000</td>\n",
       "      <td>801.000000</td>\n",
       "      <td>781.000000</td>\n",
       "      <td>801.000000</td>\n",
       "      <td>801.000000</td>\n",
       "    </tr>\n",
       "    <tr>\n",
       "      <th>mean</th>\n",
       "      <td>0.996255</td>\n",
       "      <td>1.057116</td>\n",
       "      <td>0.968789</td>\n",
       "      <td>1.073970</td>\n",
       "      <td>1.068976</td>\n",
       "      <td>1.065543</td>\n",
       "      <td>1.135456</td>\n",
       "      <td>1.192884</td>\n",
       "      <td>0.985019</td>\n",
       "      <td>1.034020</td>\n",
       "      <td>...</td>\n",
       "      <td>1.163892</td>\n",
       "      <td>68.958801</td>\n",
       "      <td>55.155761</td>\n",
       "      <td>401.000000</td>\n",
       "      <td>71.305868</td>\n",
       "      <td>70.911361</td>\n",
       "      <td>66.334582</td>\n",
       "      <td>61.378105</td>\n",
       "      <td>3.690387</td>\n",
       "      <td>0.087391</td>\n",
       "    </tr>\n",
       "    <tr>\n",
       "      <th>std</th>\n",
       "      <td>0.597248</td>\n",
       "      <td>0.438142</td>\n",
       "      <td>0.353058</td>\n",
       "      <td>0.654962</td>\n",
       "      <td>0.522167</td>\n",
       "      <td>0.717251</td>\n",
       "      <td>0.691853</td>\n",
       "      <td>0.604488</td>\n",
       "      <td>0.558256</td>\n",
       "      <td>0.788896</td>\n",
       "      <td>...</td>\n",
       "      <td>1.080326</td>\n",
       "      <td>26.576015</td>\n",
       "      <td>20.261623</td>\n",
       "      <td>231.373075</td>\n",
       "      <td>32.353826</td>\n",
       "      <td>27.942501</td>\n",
       "      <td>28.907662</td>\n",
       "      <td>109.354766</td>\n",
       "      <td>1.930420</td>\n",
       "      <td>0.282583</td>\n",
       "    </tr>\n",
       "    <tr>\n",
       "      <th>min</th>\n",
       "      <td>0.250000</td>\n",
       "      <td>0.250000</td>\n",
       "      <td>0.000000</td>\n",
       "      <td>0.000000</td>\n",
       "      <td>0.250000</td>\n",
       "      <td>0.000000</td>\n",
       "      <td>0.250000</td>\n",
       "      <td>0.250000</td>\n",
       "      <td>0.000000</td>\n",
       "      <td>0.250000</td>\n",
       "      <td>...</td>\n",
       "      <td>0.100000</td>\n",
       "      <td>1.000000</td>\n",
       "      <td>0.000000</td>\n",
       "      <td>1.000000</td>\n",
       "      <td>10.000000</td>\n",
       "      <td>20.000000</td>\n",
       "      <td>5.000000</td>\n",
       "      <td>0.100000</td>\n",
       "      <td>1.000000</td>\n",
       "      <td>0.000000</td>\n",
       "    </tr>\n",
       "    <tr>\n",
       "      <th>25%</th>\n",
       "      <td>0.500000</td>\n",
       "      <td>1.000000</td>\n",
       "      <td>1.000000</td>\n",
       "      <td>0.500000</td>\n",
       "      <td>1.000000</td>\n",
       "      <td>0.500000</td>\n",
       "      <td>0.500000</td>\n",
       "      <td>1.000000</td>\n",
       "      <td>1.000000</td>\n",
       "      <td>0.500000</td>\n",
       "      <td>...</td>\n",
       "      <td>0.600000</td>\n",
       "      <td>50.000000</td>\n",
       "      <td>50.000000</td>\n",
       "      <td>201.000000</td>\n",
       "      <td>45.000000</td>\n",
       "      <td>50.000000</td>\n",
       "      <td>45.000000</td>\n",
       "      <td>9.000000</td>\n",
       "      <td>2.000000</td>\n",
       "      <td>0.000000</td>\n",
       "    </tr>\n",
       "    <tr>\n",
       "      <th>50%</th>\n",
       "      <td>1.000000</td>\n",
       "      <td>1.000000</td>\n",
       "      <td>1.000000</td>\n",
       "      <td>1.000000</td>\n",
       "      <td>1.000000</td>\n",
       "      <td>1.000000</td>\n",
       "      <td>1.000000</td>\n",
       "      <td>1.000000</td>\n",
       "      <td>1.000000</td>\n",
       "      <td>1.000000</td>\n",
       "      <td>...</td>\n",
       "      <td>1.000000</td>\n",
       "      <td>65.000000</td>\n",
       "      <td>50.000000</td>\n",
       "      <td>401.000000</td>\n",
       "      <td>65.000000</td>\n",
       "      <td>66.000000</td>\n",
       "      <td>65.000000</td>\n",
       "      <td>27.300000</td>\n",
       "      <td>4.000000</td>\n",
       "      <td>0.000000</td>\n",
       "    </tr>\n",
       "    <tr>\n",
       "      <th>75%</th>\n",
       "      <td>1.000000</td>\n",
       "      <td>1.000000</td>\n",
       "      <td>1.000000</td>\n",
       "      <td>1.000000</td>\n",
       "      <td>1.000000</td>\n",
       "      <td>1.000000</td>\n",
       "      <td>2.000000</td>\n",
       "      <td>1.000000</td>\n",
       "      <td>1.000000</td>\n",
       "      <td>1.000000</td>\n",
       "      <td>...</td>\n",
       "      <td>1.500000</td>\n",
       "      <td>80.000000</td>\n",
       "      <td>50.000000</td>\n",
       "      <td>601.000000</td>\n",
       "      <td>91.000000</td>\n",
       "      <td>90.000000</td>\n",
       "      <td>85.000000</td>\n",
       "      <td>64.800000</td>\n",
       "      <td>5.000000</td>\n",
       "      <td>0.000000</td>\n",
       "    </tr>\n",
       "    <tr>\n",
       "      <th>max</th>\n",
       "      <td>4.000000</td>\n",
       "      <td>4.000000</td>\n",
       "      <td>2.000000</td>\n",
       "      <td>4.000000</td>\n",
       "      <td>4.000000</td>\n",
       "      <td>4.000000</td>\n",
       "      <td>4.000000</td>\n",
       "      <td>4.000000</td>\n",
       "      <td>4.000000</td>\n",
       "      <td>4.000000</td>\n",
       "      <td>...</td>\n",
       "      <td>14.500000</td>\n",
       "      <td>255.000000</td>\n",
       "      <td>100.000000</td>\n",
       "      <td>801.000000</td>\n",
       "      <td>194.000000</td>\n",
       "      <td>230.000000</td>\n",
       "      <td>180.000000</td>\n",
       "      <td>999.900000</td>\n",
       "      <td>7.000000</td>\n",
       "      <td>1.000000</td>\n",
       "    </tr>\n",
       "  </tbody>\n",
       "</table>\n",
       "<p>8 rows × 34 columns</p>\n",
       "</div>"
      ],
      "text/plain": [
       "       against_bug  against_dark  against_dragon  against_electric  \\\n",
       "count   801.000000    801.000000      801.000000        801.000000   \n",
       "mean      0.996255      1.057116        0.968789          1.073970   \n",
       "std       0.597248      0.438142        0.353058          0.654962   \n",
       "min       0.250000      0.250000        0.000000          0.000000   \n",
       "25%       0.500000      1.000000        1.000000          0.500000   \n",
       "50%       1.000000      1.000000        1.000000          1.000000   \n",
       "75%       1.000000      1.000000        1.000000          1.000000   \n",
       "max       4.000000      4.000000        2.000000          4.000000   \n",
       "\n",
       "       against_fairy  against_fight  against_fire  against_flying  \\\n",
       "count     801.000000     801.000000    801.000000      801.000000   \n",
       "mean        1.068976       1.065543      1.135456        1.192884   \n",
       "std         0.522167       0.717251      0.691853        0.604488   \n",
       "min         0.250000       0.000000      0.250000        0.250000   \n",
       "25%         1.000000       0.500000      0.500000        1.000000   \n",
       "50%         1.000000       1.000000      1.000000        1.000000   \n",
       "75%         1.000000       1.000000      2.000000        1.000000   \n",
       "max         4.000000       4.000000      4.000000        4.000000   \n",
       "\n",
       "       against_ghost  against_grass  ...    height_m          hp  \\\n",
       "count     801.000000     801.000000  ...  781.000000  801.000000   \n",
       "mean        0.985019       1.034020  ...    1.163892   68.958801   \n",
       "std         0.558256       0.788896  ...    1.080326   26.576015   \n",
       "min         0.000000       0.250000  ...    0.100000    1.000000   \n",
       "25%         1.000000       0.500000  ...    0.600000   50.000000   \n",
       "50%         1.000000       1.000000  ...    1.000000   65.000000   \n",
       "75%         1.000000       1.000000  ...    1.500000   80.000000   \n",
       "max         4.000000       4.000000  ...   14.500000  255.000000   \n",
       "\n",
       "       percentage_male  pokedex_number   sp_attack  sp_defense       speed  \\\n",
       "count       703.000000      801.000000  801.000000  801.000000  801.000000   \n",
       "mean         55.155761      401.000000   71.305868   70.911361   66.334582   \n",
       "std          20.261623      231.373075   32.353826   27.942501   28.907662   \n",
       "min           0.000000        1.000000   10.000000   20.000000    5.000000   \n",
       "25%          50.000000      201.000000   45.000000   50.000000   45.000000   \n",
       "50%          50.000000      401.000000   65.000000   66.000000   65.000000   \n",
       "75%          50.000000      601.000000   91.000000   90.000000   85.000000   \n",
       "max         100.000000      801.000000  194.000000  230.000000  180.000000   \n",
       "\n",
       "        weight_kg  generation  is_legendary  \n",
       "count  781.000000  801.000000    801.000000  \n",
       "mean    61.378105    3.690387      0.087391  \n",
       "std    109.354766    1.930420      0.282583  \n",
       "min      0.100000    1.000000      0.000000  \n",
       "25%      9.000000    2.000000      0.000000  \n",
       "50%     27.300000    4.000000      0.000000  \n",
       "75%     64.800000    5.000000      0.000000  \n",
       "max    999.900000    7.000000      1.000000  \n",
       "\n",
       "[8 rows x 34 columns]"
      ]
     },
     "execution_count": 2004,
     "metadata": {},
     "output_type": "execute_result"
    }
   ],
   "source": [
    "my_dataset.describe()"
   ]
  },
  {
   "cell_type": "code",
   "execution_count": 2005,
   "id": "f7eb57fd",
   "metadata": {},
   "outputs": [],
   "source": [
    "my_data = my_dataset"
   ]
  },
  {
   "cell_type": "code",
   "execution_count": 2006,
   "id": "5f5966f0",
   "metadata": {},
   "outputs": [],
   "source": [
    "#Separamos los datos:\n",
    "y = my_data.is_legendary\n",
    "X = my_data.drop(['is_legendary'], axis=1)"
   ]
  },
  {
   "cell_type": "code",
   "execution_count": 2007,
   "id": "9ca06250",
   "metadata": {},
   "outputs": [],
   "source": [
    "#Seleccionamos columnas categóricas\n",
    "s = (my_data.dtypes == 'object')\n",
    "columnas_categoricas = list(s[s].index)"
   ]
  },
  {
   "cell_type": "code",
   "execution_count": 2008,
   "id": "b66211cd",
   "metadata": {},
   "outputs": [],
   "source": [
    "#Codificamos variables categoricas:\n",
    "OHE_X = pd.get_dummies(X[columnas_categoricas])"
   ]
  },
  {
   "cell_type": "code",
   "execution_count": 2009,
   "id": "917b9768",
   "metadata": {},
   "outputs": [],
   "source": [
    "#estandarizamos los datos:\n",
    "#creamos la instancia:\n",
    "scaler = StandardScaler()\n",
    "# Aplicamos la estadarizacion:\n",
    "OHE_X_estandarizado = scaler.fit_transform(OHE_X)#nos quedo un array numpy"
   ]
  },
  {
   "cell_type": "code",
   "execution_count": 2010,
   "id": "6e1b6503",
   "metadata": {},
   "outputs": [],
   "source": [
    "#divimos en entrenamiento y testeo:\n",
    "X_train, X_test, y_train, y_test = train_test_split(OHE_X_estandarizado, y, train_size=0.8, test_size=0.2, random_state=0)\n"
   ]
  },
  {
   "cell_type": "code",
   "execution_count": 2011,
   "id": "4bef695d",
   "metadata": {},
   "outputs": [],
   "source": [
    "#tratamos los datos perdidos (para reemplazarlos por \"mean\" primero deben ser tipos de datos numericos, nada de variables categoricas):\n",
    "imp = SimpleImputer(missing_values=np.nan, strategy='mean')\n",
    "X_train = imp.fit_transform(X_train)\n",
    "# Trasladar la transformación al conjunto de prueba\n",
    "X_test = imp.transform(X_test)"
   ]
  },
  {
   "attachments": {},
   "cell_type": "markdown",
   "id": "13e49832",
   "metadata": {},
   "source": [
    "# Modelos y evaluación\n",
    "Probar diferentes modelos para predecir la variable objetivo. Calcular las métricas que considere relevantes. Comentar los resultados. "
   ]
  },
  {
   "cell_type": "code",
   "execution_count": 2012,
   "id": "529db73e",
   "metadata": {},
   "outputs": [],
   "source": [
    "from sklearn.linear_model import LogisticRegressionCV, LogisticRegression"
   ]
  },
  {
   "cell_type": "code",
   "execution_count": 2013,
   "id": "f61d8b3f",
   "metadata": {},
   "outputs": [],
   "source": [
    "#Logistic regressor:\n",
    "LR_model = LogisticRegression(max_iter=2500)\n",
    "#entrenamos el modelo:\n",
    "LR_model.fit(X_train, y_train)\n",
    "#hacemos predicciones:\n",
    "y_pred = LR_model.predict(X_test) "
   ]
  },
  {
   "cell_type": "code",
   "execution_count": 2014,
   "id": "ffa659f8",
   "metadata": {},
   "outputs": [
    {
     "name": "stdout",
     "output_type": "stream",
     "text": [
      "Accuracy:  0.906832298136646\n",
      "Train accuracy: 1.0\n",
      "Test accuracy: 0.906832298136646\n"
     ]
    }
   ],
   "source": [
    "print(\"Accuracy: \", np.mean(y_pred == y_test))\n",
    "print(\"Train accuracy:\", accuracy_score(y_train, LR_model.predict(X_train)))\n",
    "print(\"Test accuracy:\", accuracy_score(y_test, y_pred))"
   ]
  },
  {
   "cell_type": "code",
   "execution_count": 2015,
   "id": "b1fc8cff",
   "metadata": {},
   "outputs": [
    {
     "data": {
      "image/png": "[encoded data removed]",
      "text/plain": [
       "<Figure size 640x480 with 2 Axes>"
      ]
     },
     "metadata": {},
     "output_type": "display_data"
    }
   ],
   "source": [
    "#Confusion matrix\n",
    "cf_matrix = confusion_matrix(y_test, y_pred)\n",
    "sns.heatmap(cf_matrix, annot=True, cmap='Blues')\n",
    "plt.xlabel('Predecido', fontsize=12)\n",
    "plt.ylabel('Verdadero', fontsize=12)\n",
    "plt.title(\"LogisticRegression without PCA\")\n",
    "plt.show()"
   ]
  },
  {
   "cell_type": "code",
   "execution_count": 2016,
   "id": "d78ec2aa",
   "metadata": {},
   "outputs": [],
   "source": [
    "#Logistic regressor CV:\n",
    "LRCV_model = LogisticRegressionCV(Cs=2, max_iter=2500)\n",
    "#entrenamos el modelo:\n",
    "LRCV_model.fit(X_train, y_train)\n",
    "#hacemos predicciones:\n",
    "y_pred_CV = LRCV_model.predict(X_test) "
   ]
  },
  {
   "cell_type": "code",
   "execution_count": 2017,
   "id": "b5aefa98",
   "metadata": {},
   "outputs": [
    {
     "name": "stdout",
     "output_type": "stream",
     "text": [
      "Accuracy CV:  0.906832298136646\n",
      "Train accuracy CV: 0.9140625\n",
      "Test accuracy CV: 0.906832298136646\n"
     ]
    }
   ],
   "source": [
    "print(\"Accuracy CV: \", np.mean(y_pred_CV == y_test))\n",
    "print(\"Train accuracy CV:\", accuracy_score(y_train, LRCV_model.predict(X_train)))\n",
    "print(\"Test accuracy CV:\", accuracy_score(y_test, y_pred_CV))"
   ]
  },
  {
   "cell_type": "code",
   "execution_count": 2018,
   "id": "0e6c17f0",
   "metadata": {},
   "outputs": [
    {
     "data": {
      "image/png": "[encoded data removed]",
      "text/plain": [
       "<Figure size 640x480 with 2 Axes>"
      ]
     },
     "metadata": {},
     "output_type": "display_data"
    }
   ],
   "source": [
    "\n",
    "#Confusion matrix\n",
    "cf_matrix = confusion_matrix(y_test, y_pred_CV)\n",
    "sns.heatmap(cf_matrix, annot=True, cmap='Blues')\n",
    "plt.title(\"Confusion matriz CV\")\n",
    "plt.xlabel('Predecido', fontsize=12)\n",
    "plt.ylabel('Verdadero', fontsize=12)\n",
    "plt.title(\"LogisticRegressionCV without PCA\")\n",
    "plt.show()"
   ]
  },
  {
   "cell_type": "markdown",
   "id": "c910b3bd",
   "metadata": {},
   "source": [
    "Puede ser que las características que estamos utilizando para entrenar el modelo esten demasiado correlacionadas con la variable legendario, el modelo puede aprender a depender demasiado de esas características y no generalizar bien. Tal vez se esta produciendo Overfitting. Vamos a probar PCA y ver que pasa:"
   ]
  },
  {
   "cell_type": "code",
   "execution_count": 2019,
   "id": "0060b377",
   "metadata": {},
   "outputs": [
    {
     "name": "stdout",
     "output_type": "stream",
     "text": [
      "Varianza:  0.850888911340136\n",
      "numero de componentes: 495, anteriomente: 2742\n"
     ]
    }
   ],
   "source": [
    "#PCA:\n",
    "pca = PCA(0.85)\n",
    "pca_train = pca.fit_transform(X_train)\n",
    "#varianza explicada por nuestra nueva dimensión de datos:\n",
    "print(\"Varianza: \", sum(pca.explained_variance_ratio_))\n",
    "print(\"numero de componentes: {}, anteriomente: {}\".format(pca.n_components_, OHE_X.shape[1]))"
   ]
  },
  {
   "cell_type": "code",
   "execution_count": 2020,
   "id": "ea9a32c1",
   "metadata": {},
   "outputs": [],
   "source": [
    "#aplicamos PCA A los datos de testeo:\n",
    "pca_test = pca.transform(X_test)"
   ]
  },
  {
   "cell_type": "code",
   "execution_count": 2021,
   "id": "de3a02a5",
   "metadata": {},
   "outputs": [],
   "source": [
    "#creamos el modelo:\n",
    "LRCV_model_with_pca = LogisticRegressionCV(Cs=2, max_iter=1000)\n",
    "#entrenar modelo:\n",
    "LRCV_model_with_pca.fit(pca_train, y_train)\n",
    "#Hacemos predicciones\n",
    "y_pred_with_pca = LRCV_model_with_pca.predict(pca_test)\n"
   ]
  },
  {
   "cell_type": "code",
   "execution_count": 2022,
   "id": "822a9b3e",
   "metadata": {},
   "outputs": [
    {
     "name": "stdout",
     "output_type": "stream",
     "text": [
      "Accuracy with pca:  0.906832298136646\n",
      "Train accuracy with pca: 0.9140625\n",
      "Test accuracy with pca: 0.906832298136646\n"
     ]
    }
   ],
   "source": [
    "print(\"Accuracy with pca: \", np.mean(y_pred_with_pca == y_test))\n",
    "print(\"Train accuracy with pca:\", accuracy_score(y_train, LRCV_model_with_pca.predict(pca_train)))\n",
    "print(\"Test accuracy with pca:\", accuracy_score(y_test, y_pred_with_pca))"
   ]
  },
  {
   "cell_type": "code",
   "execution_count": 2023,
   "id": "55b9637a",
   "metadata": {},
   "outputs": [
    {
     "data": {
      "image/png": "[encoded data removed]",
      "text/plain": [
       "<Figure size 640x480 with 2 Axes>"
      ]
     },
     "metadata": {},
     "output_type": "display_data"
    }
   ],
   "source": [
    "#Confusion matrix\n",
    "cf_matrix = confusion_matrix(y_test, y_pred_with_pca)\n",
    "sns.heatmap(cf_matrix, annot=True, cmap='Blues')\n",
    "plt.xlabel('Predecido', fontsize=12)\n",
    "plt.ylabel('Verdadero', fontsize=12)\n",
    "plt.title(\"LogisticRegressionCV with PCA\")\n",
    "plt.show()"
   ]
  },
  {
   "cell_type": "markdown",
   "id": "1c914b54",
   "metadata": {},
   "source": [
    "No hay cambios notables, solo que se reducio notablemente la dimensionalidad del dataset con el que se trabaja."
   ]
  },
  {
   "cell_type": "markdown",
   "id": "10fab1f2",
   "metadata": {},
   "source": []
  },
  {
   "cell_type": "markdown",
   "id": "f6ed3aad",
   "metadata": {},
   "source": [
    "OTRO ENFOQUE:"
   ]
  },
  {
   "cell_type": "markdown",
   "id": "453d3cf3",
   "metadata": {},
   "source": [
    "LO ANTERIOR NO TRAJO BUENOS RESULTADOS, VAMOS A MIRAR DETALLADAMENTE CADA VARIABLE CATEGORICA Y DEDUCIR CUAL ES INTERESANTE DE CONSERVAR:"
   ]
  },
  {
   "cell_type": "code",
   "execution_count": 2024,
   "id": "55f3cc85",
   "metadata": {},
   "outputs": [
    {
     "data": {
      "text/plain": [
       "<Axes: xlabel='classfication', ylabel='count'>"
      ]
     },
     "execution_count": 2024,
     "metadata": {},
     "output_type": "execute_result"
    },
    {
     "data": {
      "image/png": "[encoded data removed]",
      "text/plain": [
       "<Figure size 640x480 with 1 Axes>"
      ]
     },
     "metadata": {},
     "output_type": "display_data"
    }
   ],
   "source": [
    "#Exploramos la Variable Objetivo para los pokemones  legendarios:\n",
    "variable_objetivo = my_dataset[my_dataset['is_legendary'] == True]\n",
    "#vemos como se distribuye la variable categorica que se pone en x con respecto a data, en este caso con respecto a los pokemones legendarios:\n",
    "sns.countplot(x='classfication', data=variable_objetivo)"
   ]
  },
  {
   "cell_type": "code",
   "execution_count": 2025,
   "id": "13378f7a",
   "metadata": {},
   "outputs": [
    {
     "data": {
      "text/plain": [
       "<Axes: xlabel='name', ylabel='count'>"
      ]
     },
     "execution_count": 2025,
     "metadata": {},
     "output_type": "execute_result"
    },
    {
     "data": {
      "image/png": "[encoded data removed]",
      "text/plain": [
       "<Figure size 640x480 with 1 Axes>"
      ]
     },
     "metadata": {},
     "output_type": "display_data"
    }
   ],
   "source": [
    "#Exploramos la Variable Objetivo para los pokemones no legendarios:\n",
    "variable_objetivo = my_dataset[my_dataset['is_legendary'] != True]\n",
    "#vemos como se distribuye la variable categorica que se pone en x con respecto a data, en este caso con respecto a los pokemones legendarios:\n",
    "sns.countplot(x='name', data=variable_objetivo)"
   ]
  },
  {
   "cell_type": "markdown",
   "id": "0f5e12df",
   "metadata": {},
   "source": [
    "Variables como name, japanese name no nos dan información para indicar si un pokemon es legendario o no, ya que cada uno tiene un nombre distinto.\n",
    "Similar para la variable categorica pokedex_number, cada uno tiene el propio"
   ]
  },
  {
   "cell_type": "code",
   "execution_count": 2026,
   "id": "c283e7fb",
   "metadata": {},
   "outputs": [],
   "source": [
    "my_data = my_dataset.drop(['name', 'japanese_name', 'pokedex_number'], axis=1)\n",
    "#my_data = my_dataset\n",
    "#SI PROBAMOS SIN ELIMINAR ESTAR TRES COLUMNAS, EL ERROR AUMENTA.\n"
   ]
  },
  {
   "cell_type": "code",
   "execution_count": 2027,
   "id": "2ca81de0",
   "metadata": {},
   "outputs": [
    {
     "name": "stdout",
     "output_type": "stream",
     "text": [
      "               against_bug\n",
      "Legendary         1.050000\n",
      "non-Legendary     0.991108\n",
      "               against_dark\n",
      "Legendary          1.250000\n",
      "non-Legendary      1.038646\n",
      "               against_dragon\n",
      "Legendary            0.985714\n",
      "non-Legendary        0.967168\n",
      "               against_electric\n",
      "Legendary              1.025000\n",
      "non-Legendary          1.078659\n",
      "               against_fairy\n",
      "Legendary           1.153571\n",
      "non-Legendary       1.060876\n",
      "               against_fight\n",
      "Legendary           0.928571\n",
      "non-Legendary       1.078659\n",
      "               against_fire\n",
      "Legendary          1.110714\n",
      "non-Legendary      1.137825\n",
      "               against_flying\n",
      "Legendary            1.071429\n",
      "non-Legendary        1.204514\n",
      "               against_ghost\n",
      "Legendary           1.292857\n",
      "non-Legendary       0.955540\n",
      "               against_grass\n",
      "Legendary           0.853571\n",
      "non-Legendary       1.051300\n",
      "               against_ground\n",
      "Legendary            1.128571\n",
      "non-Legendary        1.095075\n",
      "               against_ice\n",
      "Legendary         1.221429\n",
      "non-Legendary     1.206908\n",
      "               against_normal\n",
      "Legendary            0.857143\n",
      "non-Legendary        0.889877\n",
      "               against_poison\n",
      "Legendary            0.932143\n",
      "non-Legendary        0.979480\n",
      "               against_psychic\n",
      "Legendary             0.835714\n",
      "non-Legendary         1.021546\n",
      "               against_rock\n",
      "Legendary          1.210714\n",
      "non-Legendary      1.254104\n",
      "               against_steel\n",
      "Legendary           0.985714\n",
      "non-Legendary       0.983242\n",
      "               against_water\n",
      "Legendary           1.017857\n",
      "non-Legendary       1.062244\n",
      "                   attack\n",
      "Legendary      109.357143\n",
      "non-Legendary   74.841313\n",
      "               base_egg_steps\n",
      "Legendary        25691.428571\n",
      "non-Legendary     5419.425445\n",
      "               base_happiness\n",
      "Legendary           39.214286\n",
      "non-Legendary       67.865937\n",
      "               base_total\n",
      "Legendary      615.257143\n",
      "non-Legendary  410.481532\n",
      "                 defense\n",
      "Legendary      99.400000\n",
      "non-Legendary  70.481532\n",
      "               experience_growth\n",
      "Legendary           1.241851e+06\n",
      "non-Legendary       1.037103e+06\n",
      "               height_m\n",
      "Legendary      2.281159\n",
      "non-Legendary  1.055618\n",
      "                      hp\n",
      "Legendary      95.428571\n",
      "non-Legendary  66.424077\n",
      "               percentage_male\n",
      "Legendary            64.285714\n",
      "non-Legendary        55.063937\n",
      "                sp_attack\n",
      "Legendary      113.757143\n",
      "non-Legendary   67.240766\n",
      "               sp_defense\n",
      "Legendary      101.885714\n",
      "non-Legendary   67.945280\n",
      "                   speed\n",
      "Legendary      95.428571\n",
      "non-Legendary  63.548564\n",
      "                weight_kg\n",
      "Legendary      199.350725\n",
      "non-Legendary   48.007163\n",
      "               generation\n",
      "Legendary        4.557143\n",
      "non-Legendary    3.607387\n",
      "               is_legendary\n",
      "Legendary               1.0\n",
      "non-Legendary           0.0\n"
     ]
    }
   ],
   "source": [
    "#en esta parte vamos a comparar la media de cada variable categorica de tipo no objeto, esto lo hacemos para ver donde se marcan las diferencias entre pokemones legendary y no legendary:\n",
    "s = (my_data.dtypes != 'object')\n",
    "columnas_no_categoricas = list(s[s].index)\n",
    "\n",
    "my_data = my_data[columnas_no_categoricas]\n",
    "leg = my_data[my_data['is_legendary'] == True]\n",
    "for i in range(my_data.shape[1]):\n",
    "    leg_total = leg[my_data.columns[i]].mean()\n",
    "    non_leg_total = my_data[my_data['is_legendary'] != True][my_data.columns[i]].mean()\n",
    "    result_df  = pd.DataFrame([leg_total, non_leg_total], index=['Legendary', 'non-Legendary'], columns=[my_data.columns[i]])\n",
    "    print(result_df)"
   ]
  },
  {
   "cell_type": "markdown",
   "id": "efe12087",
   "metadata": {},
   "source": [
    "Del analisis anterior podemos inducir que las siguientes son las variables numericas que marcan mayor diferencia entre legenday y no legendary:\n",
    "base_egg_steps, sp_attack, sp_defense, weight_kg, base_total, base_happiness, attack"
   ]
  },
  {
   "cell_type": "code",
   "execution_count": 2028,
   "id": "6b6e95d7",
   "metadata": {},
   "outputs": [],
   "source": [
    "#tomamos del dataset solo lo importante:\n",
    "my_data_with_other_approach = my_dataset[['base_egg_steps', 'sp_attack', 'sp_defense', 'weight_kg', 'base_total', 'base_happiness', 'attack', 'is_legendary', 'experience_growth']]\n",
    "\n",
    "#En este caso no considero las variables categoricas."
   ]
  },
  {
   "cell_type": "markdown",
   "id": "e9b6753a",
   "metadata": {},
   "source": [
    "PROBAMOS NUESTROS MODELOS:"
   ]
  },
  {
   "cell_type": "code",
   "execution_count": 2029,
   "id": "cbb668a6",
   "metadata": {},
   "outputs": [],
   "source": [
    "#Separamos EL DATASET:\n",
    "y_with_other_approach = my_data_with_other_approach.is_legendary\n",
    "X_with_other_approach = my_data_with_other_approach.drop(['is_legendary'], axis=1)"
   ]
  },
  {
   "cell_type": "code",
   "execution_count": 2030,
   "id": "72f31df8",
   "metadata": {},
   "outputs": [],
   "source": [
    "#divimos en entrenamiento y testeo:\n",
    "X_train, X_test, y_train, y_test = train_test_split(X_with_other_approach, y_with_other_approach, train_size=0.8, test_size=0.2, random_state=0)"
   ]
  },
  {
   "cell_type": "code",
   "execution_count": 2031,
   "id": "0aae6d02",
   "metadata": {},
   "outputs": [],
   "source": [
    "#tratamos los datos perdidos (para reemplazarlos por \"mean\" primero deben ser tipos de datos numericos, nada de variables categoricas):\n",
    "imp = SimpleImputer(missing_values=np.nan, strategy='mean')\n",
    "X_train = imp.fit_transform(X_train)\n",
    "\n",
    "# Trasladar la transformación al conjunto de prueba\n",
    "X_test = imp.transform(X_test)"
   ]
  },
  {
   "cell_type": "code",
   "execution_count": 2032,
   "id": "0f835d1c",
   "metadata": {},
   "outputs": [],
   "source": [
    "#Logistic regressor:\n",
    "LR_model = LogisticRegression(max_iter=2500)\n",
    "#entrenamos el modelo:\n",
    "LR_model.fit(X_train, y_train)\n",
    "#hacemos predicciones:\n",
    "y_pred = LR_model.predict(X_test) "
   ]
  },
  {
   "cell_type": "code",
   "execution_count": 2033,
   "id": "8ff39c16",
   "metadata": {},
   "outputs": [
    {
     "name": "stdout",
     "output_type": "stream",
     "text": [
      "Accuracy:  0.9875776397515528\n",
      "Train accuracy: 0.984375\n",
      "Test accuracy: 0.9875776397515528\n"
     ]
    }
   ],
   "source": [
    "print(\"Accuracy: \", np.mean(y_pred == y_test))\n",
    "print(\"Train accuracy:\", accuracy_score(y_train, LR_model.predict(X_train)))\n",
    "print(\"Test accuracy:\", accuracy_score(y_test, y_pred))"
   ]
  },
  {
   "cell_type": "code",
   "execution_count": 2034,
   "id": "87cb850e",
   "metadata": {},
   "outputs": [
    {
     "data": {
      "image/png": "[encoded data removed]",
      "text/plain": [
       "<Figure size 640x480 with 2 Axes>"
      ]
     },
     "metadata": {},
     "output_type": "display_data"
    }
   ],
   "source": [
    "#Confusion matrix\n",
    "cf_matrix = confusion_matrix(y_test, y_pred)\n",
    "sns.heatmap(cf_matrix, annot=True, cmap='Blues')\n",
    "plt.xlabel('Predecido', fontsize=12)\n",
    "plt.ylabel('Verdadero', fontsize=12)\n",
    "plt.title(\"LogisticRegression\")\n",
    "plt.show()"
   ]
  },
  {
   "cell_type": "markdown",
   "id": "9e76fdd7",
   "metadata": {},
   "source": [
    "LOGISTIC REGRESSOR CV:"
   ]
  },
  {
   "cell_type": "code",
   "execution_count": 2035,
   "id": "89d4c1a3",
   "metadata": {},
   "outputs": [],
   "source": [
    "#creamos el modelo:\n",
    "LRCV_with_other_approach = LogisticRegressionCV(Cs=2, max_iter=1000)\n",
    "#entrenar modelo:\n",
    "LRCV_with_other_approach.fit(X_train, y_train)\n",
    "#Hacemos predicciones\n",
    "y_pred = LRCV_with_other_approach.predict(X_test)"
   ]
  },
  {
   "cell_type": "code",
   "execution_count": 2036,
   "id": "3ba0fbf4",
   "metadata": {},
   "outputs": [
    {
     "name": "stdout",
     "output_type": "stream",
     "text": [
      "Accuracy:  0.9875776397515528\n",
      "Train accuracy: 0.9859375\n",
      "Test accuracy: 0.9875776397515528\n"
     ]
    }
   ],
   "source": [
    "print(\"Accuracy: \", np.mean(y_pred == y_test))\n",
    "print(\"Train accuracy:\", accuracy_score(y_train, LRCV_with_other_approach.predict(X_train)))\n",
    "print(\"Test accuracy:\", accuracy_score(y_test, y_pred))"
   ]
  },
  {
   "cell_type": "code",
   "execution_count": 2037,
   "id": "5fa4f7ee",
   "metadata": {},
   "outputs": [
    {
     "data": {
      "image/png": "[encoded data removed]",
      "text/plain": [
       "<Figure size 640x480 with 2 Axes>"
      ]
     },
     "metadata": {},
     "output_type": "display_data"
    }
   ],
   "source": [
    "#Confusion matrix\n",
    "cf_matrix = confusion_matrix(y_test, y_pred)\n",
    "sns.heatmap(cf_matrix, annot=True, cmap='Blues')\n",
    "plt.xlabel('Predecido', fontsize=12)\n",
    "plt.ylabel('Verdadero', fontsize=12)\n",
    "plt.title(\"LogisticRegressionCV\")\n",
    "plt.show()"
   ]
  }
 ],
 "metadata": {
  "kernelspec": {
   "display_name": "Python 3.10.7 ('.venv': venv)",
   "language": "python",
   "name": "python3"
  },
  "language_info": {
   "codemirror_mode": {
    "name": "ipython",
    "version": 3
   },
   "file_extension": ".py",
   "mimetype": "text/x-python",
   "name": "python",
   "nbconvert_exporter": "python",
   "pygments_lexer": "ipython3",
   "version": "3.10.9"
  },
  "vscode": {
   "interpreter": {
    "hash": "23cb2388443d556543181094e3ae896af451ee7d366981f58b81df73afb487db"
   }
  }
 },
 "nbformat": 4,
 "nbformat_minor": 5
}
